{
 "cells": [
  {
   "cell_type": "code",
   "execution_count": 1,
   "metadata": {},
   "outputs": [],
   "source": [
    "import pandas as pd\n",
    "import numpy as np\n",
    "import matplotlib.pyplot as plt\n",
    "import seaborn as sns\n",
    "%matplotlib inline"
   ]
  },
  {
   "cell_type": "code",
   "execution_count": 2,
   "metadata": {},
   "outputs": [],
   "source": [
    "data = pd.read_csv(\"animescrape.csv\")"
   ]
  },
  {
   "cell_type": "code",
   "execution_count": 3,
   "metadata": {},
   "outputs": [
    {
     "data": {
      "text/html": [
       "<div>\n",
       "<style scoped>\n",
       "    .dataframe tbody tr th:only-of-type {\n",
       "        vertical-align: middle;\n",
       "    }\n",
       "\n",
       "    .dataframe tbody tr th {\n",
       "        vertical-align: top;\n",
       "    }\n",
       "\n",
       "    .dataframe thead th {\n",
       "        text-align: right;\n",
       "    }\n",
       "</style>\n",
       "<table border=\"1\" class=\"dataframe\">\n",
       "  <thead>\n",
       "    <tr style=\"text-align: right;\">\n",
       "      <th></th>\n",
       "      <th>Title</th>\n",
       "      <th>Score</th>\n",
       "      <th>Medium</th>\n",
       "      <th>Number of Episodes</th>\n",
       "      <th>Start Date</th>\n",
       "      <th>End Date</th>\n",
       "      <th>Number of Members</th>\n",
       "      <th>URLS</th>\n",
       "      <th>Synopses</th>\n",
       "      <th>Genres</th>\n",
       "    </tr>\n",
       "  </thead>\n",
       "  <tbody>\n",
       "    <tr>\n",
       "      <th>0</th>\n",
       "      <td>Fullmetal Alchemist: Brotherhood</td>\n",
       "      <td>9.21</td>\n",
       "      <td>TV</td>\n",
       "      <td>64.0</td>\n",
       "      <td>Apr 2009</td>\n",
       "      <td>Jul 2010</td>\n",
       "      <td>2090273</td>\n",
       "      <td>https://myanimelist.net/anime/5114/Fullmetal_A...</td>\n",
       "      <td>\"In order for something to be obtained, someth...</td>\n",
       "      <td>['Action', 'Military', 'Adventure', 'Comedy', ...</td>\n",
       "    </tr>\n",
       "    <tr>\n",
       "      <th>1</th>\n",
       "      <td>Steins;Gate</td>\n",
       "      <td>9.12</td>\n",
       "      <td>TV</td>\n",
       "      <td>24.0</td>\n",
       "      <td>Apr 2011</td>\n",
       "      <td>Sep 2011</td>\n",
       "      <td>1681837</td>\n",
       "      <td>https://myanimelist.net/anime/9253/Steins_Gate</td>\n",
       "      <td>The self-proclaimed mad scientist Rintarou Oka...</td>\n",
       "      <td>['Thriller', 'Sci-Fi']</td>\n",
       "    </tr>\n",
       "    <tr>\n",
       "      <th>2</th>\n",
       "      <td>Gintama°</td>\n",
       "      <td>9.11</td>\n",
       "      <td>TV</td>\n",
       "      <td>51.0</td>\n",
       "      <td>Apr 2015</td>\n",
       "      <td>Mar 2016</td>\n",
       "      <td>378593</td>\n",
       "      <td>https://myanimelist.net/anime/28977/Gintama°</td>\n",
       "      <td>Gintoki, Shinpachi, and Kagura return as the f...</td>\n",
       "      <td>['Action', 'Comedy', 'Historical', 'Parody', '...</td>\n",
       "    </tr>\n",
       "    <tr>\n",
       "      <th>3</th>\n",
       "      <td>Hunter x Hunter (2011)</td>\n",
       "      <td>9.11</td>\n",
       "      <td>TV</td>\n",
       "      <td>148.0</td>\n",
       "      <td>Oct 2011</td>\n",
       "      <td>Sep 2014</td>\n",
       "      <td>1529228</td>\n",
       "      <td>https://myanimelist.net/anime/11061/Hunter_x_H...</td>\n",
       "      <td>Hunter x Hunter is set in a world where Hunter...</td>\n",
       "      <td>['Action', 'Adventure', 'Fantasy', 'Shounen', ...</td>\n",
       "    </tr>\n",
       "    <tr>\n",
       "      <th>4</th>\n",
       "      <td>Shingeki no Kyojin Season 3 Part 2</td>\n",
       "      <td>9.09</td>\n",
       "      <td>TV</td>\n",
       "      <td>10.0</td>\n",
       "      <td>Apr 2019</td>\n",
       "      <td>Jul 2019</td>\n",
       "      <td>899833</td>\n",
       "      <td>https://myanimelist.net/anime/38524/Shingeki_n...</td>\n",
       "      <td>Seeking to restore humanity’s diminishing hope...</td>\n",
       "      <td>['Action', 'Military', 'Mystery', 'Super Power...</td>\n",
       "    </tr>\n",
       "  </tbody>\n",
       "</table>\n",
       "</div>"
      ],
      "text/plain": [
       "                                Title  Score Medium  Number of Episodes  \\\n",
       "0    Fullmetal Alchemist: Brotherhood   9.21     TV                64.0   \n",
       "1                         Steins;Gate   9.12     TV                24.0   \n",
       "2                            Gintama°   9.11     TV                51.0   \n",
       "3              Hunter x Hunter (2011)   9.11     TV               148.0   \n",
       "4  Shingeki no Kyojin Season 3 Part 2   9.09     TV                10.0   \n",
       "\n",
       "  Start Date  End Date  Number of Members  \\\n",
       "0   Apr 2009  Jul 2010            2090273   \n",
       "1   Apr 2011  Sep 2011            1681837   \n",
       "2   Apr 2015  Mar 2016             378593   \n",
       "3   Oct 2011  Sep 2014            1529228   \n",
       "4   Apr 2019  Jul 2019             899833   \n",
       "\n",
       "                                                URLS  \\\n",
       "0  https://myanimelist.net/anime/5114/Fullmetal_A...   \n",
       "1     https://myanimelist.net/anime/9253/Steins_Gate   \n",
       "2       https://myanimelist.net/anime/28977/Gintama°   \n",
       "3  https://myanimelist.net/anime/11061/Hunter_x_H...   \n",
       "4  https://myanimelist.net/anime/38524/Shingeki_n...   \n",
       "\n",
       "                                            Synopses  \\\n",
       "0  \"In order for something to be obtained, someth...   \n",
       "1  The self-proclaimed mad scientist Rintarou Oka...   \n",
       "2  Gintoki, Shinpachi, and Kagura return as the f...   \n",
       "3  Hunter x Hunter is set in a world where Hunter...   \n",
       "4  Seeking to restore humanity’s diminishing hope...   \n",
       "\n",
       "                                              Genres  \n",
       "0  ['Action', 'Military', 'Adventure', 'Comedy', ...  \n",
       "1                             ['Thriller', 'Sci-Fi']  \n",
       "2  ['Action', 'Comedy', 'Historical', 'Parody', '...  \n",
       "3  ['Action', 'Adventure', 'Fantasy', 'Shounen', ...  \n",
       "4  ['Action', 'Military', 'Mystery', 'Super Power...  "
      ]
     },
     "execution_count": 3,
     "metadata": {},
     "output_type": "execute_result"
    }
   ],
   "source": [
    "data.head()"
   ]
  },
  {
   "cell_type": "code",
   "execution_count": 5,
   "metadata": {},
   "outputs": [
    {
     "name": "stdout",
     "output_type": "stream",
     "text": [
      "<class 'pandas.core.frame.DataFrame'>\n",
      "RangeIndex: 50 entries, 0 to 49\n",
      "Data columns (total 10 columns):\n",
      " #   Column              Non-Null Count  Dtype  \n",
      "---  ------              --------------  -----  \n",
      " 0   Title               50 non-null     object \n",
      " 1   Score               50 non-null     float64\n",
      " 2   Medium              50 non-null     object \n",
      " 3   Number of Episodes  49 non-null     float64\n",
      " 4   Start Date          50 non-null     object \n",
      " 5   End Date            48 non-null     object \n",
      " 6   Number of Members   50 non-null     int64  \n",
      " 7   URLS                50 non-null     object \n",
      " 8   Synopses            50 non-null     object \n",
      " 9   Genres              50 non-null     object \n",
      "dtypes: float64(2), int64(1), object(7)\n",
      "memory usage: 4.0+ KB\n"
     ]
    }
   ],
   "source": [
    "data.info()"
   ]
  },
  {
   "cell_type": "code",
   "execution_count": 6,
   "metadata": {},
   "outputs": [
    {
     "data": {
      "text/html": [
       "<div>\n",
       "<style scoped>\n",
       "    .dataframe tbody tr th:only-of-type {\n",
       "        vertical-align: middle;\n",
       "    }\n",
       "\n",
       "    .dataframe tbody tr th {\n",
       "        vertical-align: top;\n",
       "    }\n",
       "\n",
       "    .dataframe thead th {\n",
       "        text-align: right;\n",
       "    }\n",
       "</style>\n",
       "<table border=\"1\" class=\"dataframe\">\n",
       "  <thead>\n",
       "    <tr style=\"text-align: right;\">\n",
       "      <th></th>\n",
       "      <th>Score</th>\n",
       "      <th>Number of Episodes</th>\n",
       "      <th>Number of Members</th>\n",
       "    </tr>\n",
       "  </thead>\n",
       "  <tbody>\n",
       "    <tr>\n",
       "      <th>count</th>\n",
       "      <td>50.000000</td>\n",
       "      <td>49.000000</td>\n",
       "      <td>5.000000e+01</td>\n",
       "    </tr>\n",
       "    <tr>\n",
       "      <th>mean</th>\n",
       "      <td>8.858800</td>\n",
       "      <td>27.591837</td>\n",
       "      <td>6.151001e+05</td>\n",
       "    </tr>\n",
       "    <tr>\n",
       "      <th>std</th>\n",
       "      <td>0.148937</td>\n",
       "      <td>38.477763</td>\n",
       "      <td>5.098319e+05</td>\n",
       "    </tr>\n",
       "    <tr>\n",
       "      <th>min</th>\n",
       "      <td>8.670000</td>\n",
       "      <td>1.000000</td>\n",
       "      <td>4.274000e+03</td>\n",
       "    </tr>\n",
       "    <tr>\n",
       "      <th>25%</th>\n",
       "      <td>8.735000</td>\n",
       "      <td>7.000000</td>\n",
       "      <td>2.125978e+05</td>\n",
       "    </tr>\n",
       "    <tr>\n",
       "      <th>50%</th>\n",
       "      <td>8.810000</td>\n",
       "      <td>13.000000</td>\n",
       "      <td>4.386170e+05</td>\n",
       "    </tr>\n",
       "    <tr>\n",
       "      <th>75%</th>\n",
       "      <td>8.977500</td>\n",
       "      <td>26.000000</td>\n",
       "      <td>8.636082e+05</td>\n",
       "    </tr>\n",
       "    <tr>\n",
       "      <th>max</th>\n",
       "      <td>9.210000</td>\n",
       "      <td>201.000000</td>\n",
       "      <td>2.090273e+06</td>\n",
       "    </tr>\n",
       "  </tbody>\n",
       "</table>\n",
       "</div>"
      ],
      "text/plain": [
       "           Score  Number of Episodes  Number of Members\n",
       "count  50.000000           49.000000       5.000000e+01\n",
       "mean    8.858800           27.591837       6.151001e+05\n",
       "std     0.148937           38.477763       5.098319e+05\n",
       "min     8.670000            1.000000       4.274000e+03\n",
       "25%     8.735000            7.000000       2.125978e+05\n",
       "50%     8.810000           13.000000       4.386170e+05\n",
       "75%     8.977500           26.000000       8.636082e+05\n",
       "max     9.210000          201.000000       2.090273e+06"
      ]
     },
     "execution_count": 6,
     "metadata": {},
     "output_type": "execute_result"
    }
   ],
   "source": [
    "data.describe()"
   ]
  },
  {
   "cell_type": "code",
   "execution_count": 7,
   "metadata": {},
   "outputs": [
    {
     "data": {
      "text/plain": [
       "<matplotlib.axes._subplots.AxesSubplot at 0x7fd83da58650>"
      ]
     },
     "execution_count": 7,
     "metadata": {},
     "output_type": "execute_result"
    },
    {
     "data": {
      "image/png": "[encoded data removed]",
      "text/plain": [
       "<Figure size 432x288 with 1 Axes>"
      ]
     },
     "metadata": {
      "needs_background": "light"
     },
     "output_type": "display_data"
    }
   ],
   "source": [
    "data['Number of Episodes'].hist()"
   ]
  },
  {
   "cell_type": "code",
   "execution_count": 11,
   "metadata": {},
   "outputs": [
    {
     "data": {
      "text/plain": [
       "1.0      11\n",
       "12.0      4\n",
       "10.0      4\n",
       "13.0      4\n",
       "24.0      3\n",
       "26.0      3\n",
       "25.0      3\n",
       "51.0      2\n",
       "22.0      2\n",
       "148.0     1\n",
       "110.0     1\n",
       "16.0      1\n",
       "47.0      1\n",
       "27.0      1\n",
       "201.0     1\n",
       "7.0       1\n",
       "14.0      1\n",
       "75.0      1\n",
       "74.0      1\n",
       "4.0       1\n",
       "43.0      1\n",
       "64.0      1\n",
       "Name: Number of Episodes, dtype: int64"
      ]
     },
     "execution_count": 11,
     "metadata": {},
     "output_type": "execute_result"
    }
   ],
   "source": [
    "data['Number of Episodes'].value_counts()"
   ]
  },
  {
   "cell_type": "code",
   "execution_count": 12,
   "metadata": {},
   "outputs": [
    {
     "data": {
      "text/html": [
       "<div>\n",
       "<style scoped>\n",
       "    .dataframe tbody tr th:only-of-type {\n",
       "        vertical-align: middle;\n",
       "    }\n",
       "\n",
       "    .dataframe tbody tr th {\n",
       "        vertical-align: top;\n",
       "    }\n",
       "\n",
       "    .dataframe thead th {\n",
       "        text-align: right;\n",
       "    }\n",
       "</style>\n",
       "<table border=\"1\" class=\"dataframe\">\n",
       "  <thead>\n",
       "    <tr style=\"text-align: right;\">\n",
       "      <th></th>\n",
       "      <th>Title</th>\n",
       "      <th>Score</th>\n",
       "      <th>Medium</th>\n",
       "      <th>Number of Episodes</th>\n",
       "      <th>Start Date</th>\n",
       "      <th>End Date</th>\n",
       "      <th>Number of Members</th>\n",
       "      <th>URLS</th>\n",
       "      <th>Synopses</th>\n",
       "      <th>Genres</th>\n",
       "    </tr>\n",
       "  </thead>\n",
       "  <tbody>\n",
       "    <tr>\n",
       "      <th>19</th>\n",
       "      <td>Gintama.: Shirogane no Tamashii-hen - Kouhan-sen</td>\n",
       "      <td>8.85</td>\n",
       "      <td>TV</td>\n",
       "      <td>14.0</td>\n",
       "      <td>Jul 2018</td>\n",
       "      <td>Oct 2018</td>\n",
       "      <td>105243</td>\n",
       "      <td>https://myanimelist.net/anime/37491/Gintama__S...</td>\n",
       "      <td>Second Season of the final arc of Gintama.</td>\n",
       "      <td>['Action', 'Sci-Fi', 'Comedy', 'Historical', '...</td>\n",
       "    </tr>\n",
       "  </tbody>\n",
       "</table>\n",
       "</div>"
      ],
      "text/plain": [
       "                                               Title  Score Medium  \\\n",
       "19  Gintama.: Shirogane no Tamashii-hen - Kouhan-sen   8.85     TV   \n",
       "\n",
       "    Number of Episodes Start Date  End Date  Number of Members  \\\n",
       "19                14.0   Jul 2018  Oct 2018             105243   \n",
       "\n",
       "                                                 URLS  \\\n",
       "19  https://myanimelist.net/anime/37491/Gintama__S...   \n",
       "\n",
       "                                      Synopses  \\\n",
       "19  Second Season of the final arc of Gintama.   \n",
       "\n",
       "                                               Genres  \n",
       "19  ['Action', 'Sci-Fi', 'Comedy', 'Historical', '...  "
      ]
     },
     "execution_count": 12,
     "metadata": {},
     "output_type": "execute_result"
    }
   ],
   "source": [
    "data[data['Number of Episodes']==14.0]"
   ]
  },
  {
   "cell_type": "code",
   "execution_count": 28,
   "metadata": {},
   "outputs": [
    {
     "data": {
      "text/plain": [
       "[\"['Action'\",\n",
       " \" 'Military'\",\n",
       " \" 'Adventure'\",\n",
       " \" 'Comedy'\",\n",
       " \" 'Drama'\",\n",
       " \" 'Magic'\",\n",
       " \" 'Fantasy'\",\n",
       " \" 'Shounen']\"]"
      ]
     },
     "execution_count": 28,
     "metadata": {},
     "output_type": "execute_result"
    }
   ],
   "source": [
    "data[\"Genres\"].iloc[0].split(\",\")"
   ]
  },
  {
   "cell_type": "code",
   "execution_count": 33,
   "metadata": {},
   "outputs": [
    {
     "data": {
      "text/plain": [
       "8"
      ]
     },
     "execution_count": 33,
     "metadata": {},
     "output_type": "execute_result"
    }
   ],
   "source": [
    "max(data[\"Genres\"].apply(lambda x: x.split(\",\")).apply(len))"
   ]
  },
  {
   "cell_type": "code",
   "execution_count": null,
   "metadata": {},
   "outputs": [],
   "source": []
  }
 ],
 "metadata": {
  "kernelspec": {
   "display_name": "Python 3",
   "language": "python",
   "name": "python3"
  },
  "language_info": {
   "codemirror_mode": {
    "name": "ipython",
    "version": 3
   },
   "file_extension": ".py",
   "mimetype": "text/x-python",
   "name": "python",
   "nbconvert_exporter": "python",
   "pygments_lexer": "ipython3",
   "version": "3.7.6"
  }
 },
 "nbformat": 4,
 "nbformat_minor": 4
}
