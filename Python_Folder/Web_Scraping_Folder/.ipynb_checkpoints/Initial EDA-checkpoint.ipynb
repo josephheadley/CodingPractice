{
 "cells": [
  {
   "cell_type": "code",
   "execution_count": 1,
   "metadata": {},
   "outputs": [],
   "source": [
    "import pandas as pd\n",
    "import numpy as np\n",
    "import matplotlib.pyplot as plt\n",
    "import seaborn as sns\n",
    "%matplotlib inline"
   ]
  },
  {
   "cell_type": "code",
   "execution_count": 2,
   "metadata": {},
   "outputs": [],
   "source": [
    "data = pd.read_csv(\"animescrape.csv\")"
   ]
  },
  {
   "cell_type": "code",
   "execution_count": 3,
   "metadata": {},
   "outputs": [
    {
     "data": {
      "text/html": [
       "<div>\n",
       "<style scoped>\n",
       "    .dataframe tbody tr th:only-of-type {\n",
       "        vertical-align: middle;\n",
       "    }\n",
       "\n",
       "    .dataframe tbody tr th {\n",
       "        vertical-align: top;\n",
       "    }\n",
       "\n",
       "    .dataframe thead th {\n",
       "        text-align: right;\n",
       "    }\n",
       "</style>\n",
       "<table border=\"1\" class=\"dataframe\">\n",
       "  <thead>\n",
       "    <tr style=\"text-align: right;\">\n",
       "      <th></th>\n",
       "      <th>Title</th>\n",
       "      <th>Score</th>\n",
       "      <th>Medium</th>\n",
       "      <th>Number of Episodes</th>\n",
       "      <th>Episode Length</th>\n",
       "      <th>Start Date</th>\n",
       "      <th>End Date</th>\n",
       "      <th>Premier Season</th>\n",
       "      <th>Source Material</th>\n",
       "      <th>Age Rating</th>\n",
       "      <th>...</th>\n",
       "      <th>URLS</th>\n",
       "      <th>Synopses</th>\n",
       "      <th>Genre 1</th>\n",
       "      <th>Genre 2</th>\n",
       "      <th>Genre 3</th>\n",
       "      <th>Genre 4</th>\n",
       "      <th>Genre 5</th>\n",
       "      <th>Genre 6</th>\n",
       "      <th>Genre 7</th>\n",
       "      <th>Genre 8</th>\n",
       "    </tr>\n",
       "  </thead>\n",
       "  <tbody>\n",
       "    <tr>\n",
       "      <th>45</th>\n",
       "      <td>Seishun Buta Yarou wa Yumemiru Shoujo no Yume ...</td>\n",
       "      <td>8.70</td>\n",
       "      <td>Movie</td>\n",
       "      <td>1.0</td>\n",
       "      <td>1 hr. 30 min.</td>\n",
       "      <td>Jun-19</td>\n",
       "      <td>Jun-19</td>\n",
       "      <td>NaN</td>\n",
       "      <td>Light novel</td>\n",
       "      <td>PG-13</td>\n",
       "      <td>...</td>\n",
       "      <td>https://myanimelist.net/anime/38329/Seishun_Bu...</td>\n",
       "      <td>Six months ago, Sakuta Azusagawa had a chance ...</td>\n",
       "      <td>Supernatural</td>\n",
       "      <td>Drama</td>\n",
       "      <td>Romance</td>\n",
       "      <td>School</td>\n",
       "      <td>NaN</td>\n",
       "      <td>NaN</td>\n",
       "      <td>NaN</td>\n",
       "      <td>NaN</td>\n",
       "    </tr>\n",
       "    <tr>\n",
       "      <th>46</th>\n",
       "      <td>Natsume Yuujinchou Shi</td>\n",
       "      <td>8.68</td>\n",
       "      <td>TV</td>\n",
       "      <td>13.0</td>\n",
       "      <td>24 min. per ep.</td>\n",
       "      <td>Jan-12</td>\n",
       "      <td>Mar-12</td>\n",
       "      <td>Winter</td>\n",
       "      <td>Manga</td>\n",
       "      <td>PG-13</td>\n",
       "      <td>...</td>\n",
       "      <td>https://myanimelist.net/anime/11665/Natsume_Yu...</td>\n",
       "      <td>Takashi Natsume, the timid youkai expert and m...</td>\n",
       "      <td>Slice of Life</td>\n",
       "      <td>Demons</td>\n",
       "      <td>Supernatural</td>\n",
       "      <td>Drama</td>\n",
       "      <td>Shoujo</td>\n",
       "      <td>NaN</td>\n",
       "      <td>NaN</td>\n",
       "      <td>NaN</td>\n",
       "    </tr>\n",
       "    <tr>\n",
       "      <th>47</th>\n",
       "      <td>Violet Evergarden Movie</td>\n",
       "      <td>8.68</td>\n",
       "      <td>Movie</td>\n",
       "      <td>1.0</td>\n",
       "      <td>2 hr. 20 min.</td>\n",
       "      <td>Sep-20</td>\n",
       "      <td>Sep-20</td>\n",
       "      <td>NaN</td>\n",
       "      <td>Light novel</td>\n",
       "      <td>PG-13</td>\n",
       "      <td>...</td>\n",
       "      <td>https://myanimelist.net/anime/37987/Violet_Eve...</td>\n",
       "      <td>An original sequel to the TV anime which aired...</td>\n",
       "      <td>Slice of Life</td>\n",
       "      <td>Drama</td>\n",
       "      <td>Fantasy</td>\n",
       "      <td>NaN</td>\n",
       "      <td>NaN</td>\n",
       "      <td>NaN</td>\n",
       "      <td>NaN</td>\n",
       "      <td>NaN</td>\n",
       "    </tr>\n",
       "    <tr>\n",
       "      <th>48</th>\n",
       "      <td>Tengen Toppa Gurren Lagann</td>\n",
       "      <td>8.67</td>\n",
       "      <td>TV</td>\n",
       "      <td>27.0</td>\n",
       "      <td>24 min. per ep.</td>\n",
       "      <td>Apr-07</td>\n",
       "      <td>Sep-07</td>\n",
       "      <td>Spring</td>\n",
       "      <td>Original</td>\n",
       "      <td>PG-13</td>\n",
       "      <td>...</td>\n",
       "      <td>https://myanimelist.net/anime/2001/Tengen_Topp...</td>\n",
       "      <td>Simon and Kamina were born and raised in a dee...</td>\n",
       "      <td>Action</td>\n",
       "      <td>Adventure</td>\n",
       "      <td>Comedy</td>\n",
       "      <td>Mecha</td>\n",
       "      <td>Sci-Fi</td>\n",
       "      <td>NaN</td>\n",
       "      <td>NaN</td>\n",
       "      <td>NaN</td>\n",
       "    </tr>\n",
       "    <tr>\n",
       "      <th>49</th>\n",
       "      <td>Ashita no Joe 2</td>\n",
       "      <td>8.67</td>\n",
       "      <td>TV</td>\n",
       "      <td>47.0</td>\n",
       "      <td>24 min. per ep.</td>\n",
       "      <td>Oct-80</td>\n",
       "      <td>Aug-81</td>\n",
       "      <td>Fall</td>\n",
       "      <td>Manga</td>\n",
       "      <td>PG-13</td>\n",
       "      <td>...</td>\n",
       "      <td>https://myanimelist.net/anime/2921/Ashita_no_J...</td>\n",
       "      <td>Yabuki Joe is left downhearted and hopeless af...</td>\n",
       "      <td>Action</td>\n",
       "      <td>Drama</td>\n",
       "      <td>Shounen</td>\n",
       "      <td>Slice of Life</td>\n",
       "      <td>Sports</td>\n",
       "      <td>NaN</td>\n",
       "      <td>NaN</td>\n",
       "      <td>NaN</td>\n",
       "    </tr>\n",
       "  </tbody>\n",
       "</table>\n",
       "<p>5 rows × 21 columns</p>\n",
       "</div>"
      ],
      "text/plain": [
       "                                                Title  Score Medium  \\\n",
       "45  Seishun Buta Yarou wa Yumemiru Shoujo no Yume ...   8.70  Movie   \n",
       "46                             Natsume Yuujinchou Shi   8.68     TV   \n",
       "47                            Violet Evergarden Movie   8.68  Movie   \n",
       "48                         Tengen Toppa Gurren Lagann   8.67     TV   \n",
       "49                                    Ashita no Joe 2   8.67     TV   \n",
       "\n",
       "    Number of Episodes   Episode Length Start Date End Date Premier Season  \\\n",
       "45                 1.0    1 hr. 30 min.     Jun-19   Jun-19            NaN   \n",
       "46                13.0  24 min. per ep.     Jan-12   Mar-12         Winter   \n",
       "47                 1.0    2 hr. 20 min.     Sep-20   Sep-20            NaN   \n",
       "48                27.0  24 min. per ep.     Apr-07   Sep-07         Spring   \n",
       "49                47.0  24 min. per ep.     Oct-80   Aug-81           Fall   \n",
       "\n",
       "   Source Material Age Rating  ...  \\\n",
       "45     Light novel      PG-13  ...   \n",
       "46           Manga      PG-13  ...   \n",
       "47     Light novel      PG-13  ...   \n",
       "48        Original      PG-13  ...   \n",
       "49           Manga      PG-13  ...   \n",
       "\n",
       "                                                 URLS  \\\n",
       "45  https://myanimelist.net/anime/38329/Seishun_Bu...   \n",
       "46  https://myanimelist.net/anime/11665/Natsume_Yu...   \n",
       "47  https://myanimelist.net/anime/37987/Violet_Eve...   \n",
       "48  https://myanimelist.net/anime/2001/Tengen_Topp...   \n",
       "49  https://myanimelist.net/anime/2921/Ashita_no_J...   \n",
       "\n",
       "                                             Synopses        Genre 1  \\\n",
       "45  Six months ago, Sakuta Azusagawa had a chance ...   Supernatural   \n",
       "46  Takashi Natsume, the timid youkai expert and m...  Slice of Life   \n",
       "47  An original sequel to the TV anime which aired...  Slice of Life   \n",
       "48  Simon and Kamina were born and raised in a dee...         Action   \n",
       "49  Yabuki Joe is left downhearted and hopeless af...         Action   \n",
       "\n",
       "      Genre 2       Genre 3        Genre 4 Genre 5 Genre 6 Genre 7 Genre 8  \n",
       "45      Drama       Romance         School     NaN     NaN     NaN     NaN  \n",
       "46     Demons  Supernatural          Drama  Shoujo     NaN     NaN     NaN  \n",
       "47      Drama       Fantasy            NaN     NaN     NaN     NaN     NaN  \n",
       "48  Adventure        Comedy          Mecha  Sci-Fi     NaN     NaN     NaN  \n",
       "49      Drama       Shounen  Slice of Life  Sports     NaN     NaN     NaN  \n",
       "\n",
       "[5 rows x 21 columns]"
      ]
     },
     "execution_count": 3,
     "metadata": {},
     "output_type": "execute_result"
    }
   ],
   "source": [
    "data.tail()"
   ]
  },
  {
   "cell_type": "code",
   "execution_count": 4,
   "metadata": {},
   "outputs": [
    {
     "name": "stdout",
     "output_type": "stream",
     "text": [
      "<class 'pandas.core.frame.DataFrame'>\n",
      "RangeIndex: 50 entries, 0 to 49\n",
      "Data columns (total 21 columns):\n",
      " #   Column              Non-Null Count  Dtype  \n",
      "---  ------              --------------  -----  \n",
      " 0   Title               50 non-null     object \n",
      " 1   Score               50 non-null     float64\n",
      " 2   Medium              50 non-null     object \n",
      " 3   Number of Episodes  49 non-null     float64\n",
      " 4   Episode Length      50 non-null     object \n",
      " 5   Start Date          50 non-null     object \n",
      " 6   End Date            48 non-null     object \n",
      " 7   Premier Season      36 non-null     object \n",
      " 8   Source Material     50 non-null     object \n",
      " 9   Age Rating          50 non-null     object \n",
      " 10  Number of Members   50 non-null     int64  \n",
      " 11  URLS                50 non-null     object \n",
      " 12  Synopses            50 non-null     object \n",
      " 13  Genre 1             50 non-null     object \n",
      " 14  Genre 2             49 non-null     object \n",
      " 15  Genre 3             48 non-null     object \n",
      " 16  Genre 4             43 non-null     object \n",
      " 17  Genre 5             34 non-null     object \n",
      " 18  Genre 6             19 non-null     object \n",
      " 19  Genre 7             17 non-null     object \n",
      " 20  Genre 8             1 non-null      object \n",
      "dtypes: float64(2), int64(1), object(18)\n",
      "memory usage: 8.3+ KB\n"
     ]
    }
   ],
   "source": [
    "data.info()"
   ]
  },
  {
   "cell_type": "code",
   "execution_count": 5,
   "metadata": {},
   "outputs": [
    {
     "data": {
      "text/html": [
       "<div>\n",
       "<style scoped>\n",
       "    .dataframe tbody tr th:only-of-type {\n",
       "        vertical-align: middle;\n",
       "    }\n",
       "\n",
       "    .dataframe tbody tr th {\n",
       "        vertical-align: top;\n",
       "    }\n",
       "\n",
       "    .dataframe thead th {\n",
       "        text-align: right;\n",
       "    }\n",
       "</style>\n",
       "<table border=\"1\" class=\"dataframe\">\n",
       "  <thead>\n",
       "    <tr style=\"text-align: right;\">\n",
       "      <th></th>\n",
       "      <th>Score</th>\n",
       "      <th>Number of Episodes</th>\n",
       "      <th>Number of Members</th>\n",
       "    </tr>\n",
       "  </thead>\n",
       "  <tbody>\n",
       "    <tr>\n",
       "      <th>count</th>\n",
       "      <td>50.000000</td>\n",
       "      <td>49.000000</td>\n",
       "      <td>5.000000e+01</td>\n",
       "    </tr>\n",
       "    <tr>\n",
       "      <th>mean</th>\n",
       "      <td>8.858800</td>\n",
       "      <td>27.591837</td>\n",
       "      <td>6.151910e+05</td>\n",
       "    </tr>\n",
       "    <tr>\n",
       "      <th>std</th>\n",
       "      <td>0.149142</td>\n",
       "      <td>38.477763</td>\n",
       "      <td>5.097786e+05</td>\n",
       "    </tr>\n",
       "    <tr>\n",
       "      <th>min</th>\n",
       "      <td>8.670000</td>\n",
       "      <td>1.000000</td>\n",
       "      <td>4.612000e+03</td>\n",
       "    </tr>\n",
       "    <tr>\n",
       "      <th>25%</th>\n",
       "      <td>8.735000</td>\n",
       "      <td>7.000000</td>\n",
       "      <td>2.125978e+05</td>\n",
       "    </tr>\n",
       "    <tr>\n",
       "      <th>50%</th>\n",
       "      <td>8.810000</td>\n",
       "      <td>13.000000</td>\n",
       "      <td>4.401905e+05</td>\n",
       "    </tr>\n",
       "    <tr>\n",
       "      <th>75%</th>\n",
       "      <td>8.977500</td>\n",
       "      <td>26.000000</td>\n",
       "      <td>8.636082e+05</td>\n",
       "    </tr>\n",
       "    <tr>\n",
       "      <th>max</th>\n",
       "      <td>9.210000</td>\n",
       "      <td>201.000000</td>\n",
       "      <td>2.090273e+06</td>\n",
       "    </tr>\n",
       "  </tbody>\n",
       "</table>\n",
       "</div>"
      ],
      "text/plain": [
       "           Score  Number of Episodes  Number of Members\n",
       "count  50.000000           49.000000       5.000000e+01\n",
       "mean    8.858800           27.591837       6.151910e+05\n",
       "std     0.149142           38.477763       5.097786e+05\n",
       "min     8.670000            1.000000       4.612000e+03\n",
       "25%     8.735000            7.000000       2.125978e+05\n",
       "50%     8.810000           13.000000       4.401905e+05\n",
       "75%     8.977500           26.000000       8.636082e+05\n",
       "max     9.210000          201.000000       2.090273e+06"
      ]
     },
     "execution_count": 5,
     "metadata": {},
     "output_type": "execute_result"
    }
   ],
   "source": [
    "data.describe()"
   ]
  },
  {
   "cell_type": "code",
   "execution_count": 6,
   "metadata": {},
   "outputs": [
    {
     "data": {
      "text/plain": [
       "<matplotlib.axes._subplots.AxesSubplot at 0x7fa025e7c910>"
      ]
     },
     "execution_count": 6,
     "metadata": {},
     "output_type": "execute_result"
    },
    {
     "data": {
      "image/png": "[encoded data removed]",
      "text/plain": [
       "<Figure size 432x288 with 1 Axes>"
      ]
     },
     "metadata": {},
     "output_type": "display_data"
    }
   ],
   "source": [
    "sns.set_style(\"darkgrid\")\n",
    "data['Number of Episodes'].hist()"
   ]
  },
  {
   "cell_type": "code",
   "execution_count": 7,
   "metadata": {},
   "outputs": [
    {
     "data": {
      "text/plain": [
       "1.0      11\n",
       "12.0      4\n",
       "10.0      4\n",
       "13.0      4\n",
       "24.0      3\n",
       "26.0      3\n",
       "25.0      3\n",
       "51.0      2\n",
       "22.0      2\n",
       "148.0     1\n",
       "110.0     1\n",
       "16.0      1\n",
       "47.0      1\n",
       "27.0      1\n",
       "201.0     1\n",
       "7.0       1\n",
       "14.0      1\n",
       "75.0      1\n",
       "74.0      1\n",
       "4.0       1\n",
       "43.0      1\n",
       "64.0      1\n",
       "Name: Number of Episodes, dtype: int64"
      ]
     },
     "execution_count": 7,
     "metadata": {},
     "output_type": "execute_result"
    }
   ],
   "source": [
    "data['Number of Episodes'].value_counts()"
   ]
  },
  {
   "cell_type": "code",
   "execution_count": 8,
   "metadata": {},
   "outputs": [
    {
     "data": {
      "text/html": [
       "<div>\n",
       "<style scoped>\n",
       "    .dataframe tbody tr th:only-of-type {\n",
       "        vertical-align: middle;\n",
       "    }\n",
       "\n",
       "    .dataframe tbody tr th {\n",
       "        vertical-align: top;\n",
       "    }\n",
       "\n",
       "    .dataframe thead th {\n",
       "        text-align: right;\n",
       "    }\n",
       "</style>\n",
       "<table border=\"1\" class=\"dataframe\">\n",
       "  <thead>\n",
       "    <tr style=\"text-align: right;\">\n",
       "      <th></th>\n",
       "      <th>Title</th>\n",
       "      <th>Score</th>\n",
       "      <th>Medium</th>\n",
       "      <th>Number of Episodes</th>\n",
       "      <th>Episode Length</th>\n",
       "      <th>Start Date</th>\n",
       "      <th>End Date</th>\n",
       "      <th>Premier Season</th>\n",
       "      <th>Source Material</th>\n",
       "      <th>Age Rating</th>\n",
       "      <th>...</th>\n",
       "      <th>URLS</th>\n",
       "      <th>Synopses</th>\n",
       "      <th>Genre 1</th>\n",
       "      <th>Genre 2</th>\n",
       "      <th>Genre 3</th>\n",
       "      <th>Genre 4</th>\n",
       "      <th>Genre 5</th>\n",
       "      <th>Genre 6</th>\n",
       "      <th>Genre 7</th>\n",
       "      <th>Genre 8</th>\n",
       "    </tr>\n",
       "  </thead>\n",
       "  <tbody>\n",
       "    <tr>\n",
       "      <th>12</th>\n",
       "      <td>Gintama.</td>\n",
       "      <td>8.98</td>\n",
       "      <td>TV</td>\n",
       "      <td>12.0</td>\n",
       "      <td>24 min. per ep.</td>\n",
       "      <td>Jan-17</td>\n",
       "      <td>Mar-17</td>\n",
       "      <td>Winter</td>\n",
       "      <td>Manga</td>\n",
       "      <td>PG-13</td>\n",
       "      <td>...</td>\n",
       "      <td>https://myanimelist.net/anime/34096/Gintama</td>\n",
       "      <td>After joining the resistance against the bakuf...</td>\n",
       "      <td>Action</td>\n",
       "      <td>Comedy</td>\n",
       "      <td>Historical</td>\n",
       "      <td>Parody</td>\n",
       "      <td>Samurai</td>\n",
       "      <td>Sci-Fi</td>\n",
       "      <td>Shounen</td>\n",
       "      <td>NaN</td>\n",
       "    </tr>\n",
       "    <tr>\n",
       "      <th>25</th>\n",
       "      <td>Gintama.: Shirogane no Tamashii-hen</td>\n",
       "      <td>8.80</td>\n",
       "      <td>TV</td>\n",
       "      <td>12.0</td>\n",
       "      <td>24 min. per ep.</td>\n",
       "      <td>Jan-18</td>\n",
       "      <td>Mar-18</td>\n",
       "      <td>Winter</td>\n",
       "      <td>Manga</td>\n",
       "      <td>PG-13</td>\n",
       "      <td>...</td>\n",
       "      <td>https://myanimelist.net/anime/36838/Gintama__S...</td>\n",
       "      <td>After the fierce battle on Rakuyou, the untold...</td>\n",
       "      <td>Action</td>\n",
       "      <td>Comedy</td>\n",
       "      <td>Historical</td>\n",
       "      <td>Parody</td>\n",
       "      <td>Samurai</td>\n",
       "      <td>Sci-Fi</td>\n",
       "      <td>Shounen</td>\n",
       "      <td>NaN</td>\n",
       "    </tr>\n",
       "    <tr>\n",
       "      <th>27</th>\n",
       "      <td>Shouwa Genroku Rakugo Shinjuu: Sukeroku Futata...</td>\n",
       "      <td>8.79</td>\n",
       "      <td>TV</td>\n",
       "      <td>12.0</td>\n",
       "      <td>24 min. per ep.</td>\n",
       "      <td>Jan-17</td>\n",
       "      <td>Mar-17</td>\n",
       "      <td>Winter</td>\n",
       "      <td>Manga</td>\n",
       "      <td>PG-13</td>\n",
       "      <td>...</td>\n",
       "      <td>https://myanimelist.net/anime/33095/Shouwa_Gen...</td>\n",
       "      <td>Even after having risen to the utmost rank of ...</td>\n",
       "      <td>Drama</td>\n",
       "      <td>Historical</td>\n",
       "      <td>Josei</td>\n",
       "      <td>NaN</td>\n",
       "      <td>NaN</td>\n",
       "      <td>NaN</td>\n",
       "      <td>NaN</td>\n",
       "      <td>NaN</td>\n",
       "    </tr>\n",
       "    <tr>\n",
       "      <th>29</th>\n",
       "      <td>Kaguya-sama wa Kokurasetai?: Tensai-tachi no R...</td>\n",
       "      <td>8.77</td>\n",
       "      <td>TV</td>\n",
       "      <td>12.0</td>\n",
       "      <td>24 min. per ep.</td>\n",
       "      <td>Apr-20</td>\n",
       "      <td>Jun-20</td>\n",
       "      <td>Spring</td>\n",
       "      <td>Manga</td>\n",
       "      <td>PG-13</td>\n",
       "      <td>...</td>\n",
       "      <td>https://myanimelist.net/anime/40591/Kaguya-sam...</td>\n",
       "      <td>After a slow but eventful summer vacation, Shu...</td>\n",
       "      <td>Comedy</td>\n",
       "      <td>Psychological</td>\n",
       "      <td>Romance</td>\n",
       "      <td>School</td>\n",
       "      <td>Seinen</td>\n",
       "      <td>NaN</td>\n",
       "      <td>NaN</td>\n",
       "      <td>NaN</td>\n",
       "    </tr>\n",
       "  </tbody>\n",
       "</table>\n",
       "<p>4 rows × 21 columns</p>\n",
       "</div>"
      ],
      "text/plain": [
       "                                                Title  Score Medium  \\\n",
       "12                                           Gintama.   8.98     TV   \n",
       "25                Gintama.: Shirogane no Tamashii-hen   8.80     TV   \n",
       "27  Shouwa Genroku Rakugo Shinjuu: Sukeroku Futata...   8.79     TV   \n",
       "29  Kaguya-sama wa Kokurasetai?: Tensai-tachi no R...   8.77     TV   \n",
       "\n",
       "    Number of Episodes   Episode Length Start Date End Date Premier Season  \\\n",
       "12                12.0  24 min. per ep.     Jan-17   Mar-17         Winter   \n",
       "25                12.0  24 min. per ep.     Jan-18   Mar-18         Winter   \n",
       "27                12.0  24 min. per ep.     Jan-17   Mar-17         Winter   \n",
       "29                12.0  24 min. per ep.     Apr-20   Jun-20         Spring   \n",
       "\n",
       "   Source Material Age Rating  ...  \\\n",
       "12           Manga      PG-13  ...   \n",
       "25           Manga      PG-13  ...   \n",
       "27           Manga      PG-13  ...   \n",
       "29           Manga      PG-13  ...   \n",
       "\n",
       "                                                 URLS  \\\n",
       "12        https://myanimelist.net/anime/34096/Gintama   \n",
       "25  https://myanimelist.net/anime/36838/Gintama__S...   \n",
       "27  https://myanimelist.net/anime/33095/Shouwa_Gen...   \n",
       "29  https://myanimelist.net/anime/40591/Kaguya-sam...   \n",
       "\n",
       "                                             Synopses Genre 1        Genre 2  \\\n",
       "12  After joining the resistance against the bakuf...  Action         Comedy   \n",
       "25  After the fierce battle on Rakuyou, the untold...  Action         Comedy   \n",
       "27  Even after having risen to the utmost rank of ...   Drama     Historical   \n",
       "29  After a slow but eventful summer vacation, Shu...  Comedy  Psychological   \n",
       "\n",
       "       Genre 3 Genre 4  Genre 5 Genre 6  Genre 7 Genre 8  \n",
       "12  Historical  Parody  Samurai  Sci-Fi  Shounen     NaN  \n",
       "25  Historical  Parody  Samurai  Sci-Fi  Shounen     NaN  \n",
       "27       Josei     NaN      NaN     NaN      NaN     NaN  \n",
       "29     Romance  School   Seinen     NaN      NaN     NaN  \n",
       "\n",
       "[4 rows x 21 columns]"
      ]
     },
     "execution_count": 8,
     "metadata": {},
     "output_type": "execute_result"
    }
   ],
   "source": [
    "data[data['Number of Episodes']==12.0]"
   ]
  },
  {
   "cell_type": "code",
   "execution_count": 9,
   "metadata": {},
   "outputs": [
    {
     "data": {
      "text/plain": [
       "Comedy           9\n",
       "Adventure        7\n",
       "Military         5\n",
       "Sci-Fi           5\n",
       "Slice of Life    3\n",
       "Supernatural     3\n",
       "Sports           3\n",
       "Historical       3\n",
       "Drama            3\n",
       "School           1\n",
       "Mystery          1\n",
       "Fantasy          1\n",
       "Psychological    1\n",
       "Demons           1\n",
       "Music            1\n",
       "Game             1\n",
       "Horror           1\n",
       "Name: Genre 2, dtype: int64"
      ]
     },
     "execution_count": 9,
     "metadata": {},
     "output_type": "execute_result"
    }
   ],
   "source": [
    "data[\"Genre 2\"].value_counts()#[0]"
   ]
  },
  {
   "cell_type": "code",
   "execution_count": 10,
   "metadata": {},
   "outputs": [
    {
     "data": {
      "text/plain": [
       "<seaborn.axisgrid.FacetGrid at 0x7fa02259acd0>"
      ]
     },
     "execution_count": 10,
     "metadata": {},
     "output_type": "execute_result"
    },
    {
     "data": {
      "image/png": "[encoded data removed]",
      "text/plain": [
       "<Figure size 360x360 with 1 Axes>"
      ]
     },
     "metadata": {},
     "output_type": "display_data"
    }
   ],
   "source": [
    "sns.catplot(x = \"Medium\", data = data, kind ='count')"
   ]
  },
  {
   "cell_type": "code",
   "execution_count": 11,
   "metadata": {},
   "outputs": [
    {
     "data": {
      "text/plain": [
       "<seaborn.axisgrid.FacetGrid at 0x7fa02604bd50>"
      ]
     },
     "execution_count": 11,
     "metadata": {},
     "output_type": "execute_result"
    },
    {
     "data": {
      "image/png": "[encoded data removed]",
      "text/plain": [
       "<Figure size 360x360 with 1 Axes>"
      ]
     },
     "metadata": {},
     "output_type": "display_data"
    }
   ],
   "source": [
    "sns.catplot(x = \"Premier Season\", data = data, kind ='count')"
   ]
  },
  {
   "cell_type": "code",
   "execution_count": 12,
   "metadata": {},
   "outputs": [
    {
     "data": {
      "text/plain": [
       "<seaborn.axisgrid.FacetGrid at 0x7fa026058290>"
      ]
     },
     "execution_count": 12,
     "metadata": {},
     "output_type": "execute_result"
    },
    {
     "data": {
      "image/png": "[encoded data removed]",
      "text/plain": [
       "<Figure size 360x360 with 1 Axes>"
      ]
     },
     "metadata": {},
     "output_type": "display_data"
    }
   ],
   "source": [
    "sns.catplot(x = \"Source Material\", data = data, kind ='count')"
   ]
  },
  {
   "cell_type": "code",
   "execution_count": 13,
   "metadata": {},
   "outputs": [
    {
     "data": {
      "text/plain": [
       "<seaborn.axisgrid.FacetGrid at 0x7fa02621c710>"
      ]
     },
     "execution_count": 13,
     "metadata": {},
     "output_type": "execute_result"
    },
    {
     "data": {
      "image/png": "[encoded data removed]",
      "text/plain": [
       "<Figure size 360x360 with 1 Axes>"
      ]
     },
     "metadata": {},
     "output_type": "display_data"
    }
   ],
   "source": [
    "sns.catplot(x = \"Age Rating\", data = data, kind ='count')"
   ]
  },
  {
   "cell_type": "code",
   "execution_count": 14,
   "metadata": {},
   "outputs": [
    {
     "data": {
      "text/plain": [
       "<matplotlib.axes._subplots.AxesSubplot at 0x7fa0261ae250>"
      ]
     },
     "execution_count": 14,
     "metadata": {},
     "output_type": "execute_result"
    },
    {
     "data": {
      "image/png": "[encoded data removed]",
      "text/plain": [
       "<Figure size 432x288 with 1 Axes>"
      ]
     },
     "metadata": {},
     "output_type": "display_data"
    }
   ],
   "source": [
    "data[\"Number of Members\"].hist()"
   ]
  },
  {
   "cell_type": "code",
   "execution_count": 15,
   "metadata": {},
   "outputs": [
    {
     "data": {
      "text/plain": [
       "<seaborn.axisgrid.PairGrid at 0x7fa026053450>"
      ]
     },
     "execution_count": 15,
     "metadata": {},
     "output_type": "execute_result"
    },
    {
     "data": {
      "image/png": "[encoded data removed]",
      "text/plain": [
       "<Figure size 540x540 with 12 Axes>"
      ]
     },
     "metadata": {},
     "output_type": "display_data"
    }
   ],
   "source": [
    "sns.pairplot(data)"
   ]
  },
  {
   "cell_type": "code",
   "execution_count": 16,
   "metadata": {},
   "outputs": [
    {
     "data": {
      "text/plain": [
       "<matplotlib.axes._subplots.AxesSubplot at 0x7fa026a78950>"
      ]
     },
     "execution_count": 16,
     "metadata": {},
     "output_type": "execute_result"
    },
    {
     "data": {
      "image/png": "[encoded data removed]",
      "text/plain": [
       "<Figure size 432x288 with 1 Axes>"
      ]
     },
     "metadata": {},
     "output_type": "display_data"
    }
   ],
   "source": [
    "sns.scatterplot(data = data, x = \"Number of Episodes\", y = \"Score\")"
   ]
  },
  {
   "cell_type": "code",
   "execution_count": 17,
   "metadata": {},
   "outputs": [],
   "source": [
    "def totalmins(eplen):\n",
    "    mins = 0\n",
    "    parts = eplen.split()\n",
    "    if \"hr.\" in parts and \"min.\" in parts:\n",
    "        mins = int(parts[0])*60 + int(parts[2])\n",
    "    elif \"hr.\" in parts:\n",
    "        mins = int(parts[0])*60\n",
    "    elif \"min.\" in parts:\n",
    "        mins = int(parts[0])\n",
    "    return mins"
   ]
  },
  {
   "cell_type": "code",
   "execution_count": null,
   "metadata": {},
   "outputs": [],
   "source": [
    "def totalmins(eplen, epnum):\n",
    "    \"\"\" \n",
    "    This function is used to convert information on the \"episode\" length of an anime\n",
    "    and the number of \"episodes\" that an anime has into a value (in minutes) for the\n",
    "    total runtime of the anime. This function was initially intended to convert the length of time\n",
    "    for anime movies into useful integer values but I realized that it would also be useful\n",
    "    to apply the same time conversion for anime series as well.\n",
    "    \"\"\"\n",
    "    mins = 1\n",
    "    parts = eplen.split()\n",
    "    if epnum != None:\n",
    "        if \"hr.\" in parts and \"min.\" in parts:\n",
    "            mins = (int(parts[0])*60 + int(parts[2]))*int(epnum)\n",
    "        elif \"hr.\" in parts:\n",
    "            mins = int(parts[0])*60*int(epnum)\n",
    "        elif \"min.\" in parts:\n",
    "            mins = int(parts[0])*int(epnum)\n",
    "    return mins"
   ]
  },
  {
   "cell_type": "code",
   "execution_count": 18,
   "metadata": {},
   "outputs": [],
   "source": [
    "data['Total Minutes'] = data['Episode Length'].apply(lambda x : totalmins(x))"
   ]
  },
  {
   "cell_type": "code",
   "execution_count": 19,
   "metadata": {},
   "outputs": [
    {
     "data": {
      "text/plain": [
       "0      24\n",
       "1      24\n",
       "2      24\n",
       "3      23\n",
       "4      23\n",
       "5      26\n",
       "6      24\n",
       "7      23\n",
       "8      24\n",
       "9      25\n",
       "10    130\n",
       "11    106\n",
       "12     24\n",
       "13     24\n",
       "14     24\n",
       "15    110\n",
       "16     22\n",
       "17     24\n",
       "18     24\n",
       "19      1\n",
       "20     24\n",
       "21     24\n",
       "22    125\n",
       "23    122\n",
       "24     83\n",
       "25     24\n",
       "26     24\n",
       "27     24\n",
       "28     24\n",
       "29     24\n",
       "30    105\n",
       "31     23\n",
       "32     24\n",
       "33     25\n",
       "34     22\n",
       "35     23\n",
       "36     24\n",
       "37     24\n",
       "38     30\n",
       "39     24\n",
       "40     24\n",
       "41    135\n",
       "42     25\n",
       "43    117\n",
       "44     25\n",
       "45     90\n",
       "46     24\n",
       "47    140\n",
       "48     24\n",
       "49     24\n",
       "Name: Total Minutes, dtype: int64"
      ]
     },
     "execution_count": 19,
     "metadata": {},
     "output_type": "execute_result"
    }
   ],
   "source": [
    "data[\"Total Minutes\"]"
   ]
  },
  {
   "cell_type": "code",
   "execution_count": 76,
   "metadata": {
    "scrolled": true
   },
   "outputs": [
    {
     "data": {
      "text/plain": [
       "0     1536.0\n",
       "1      576.0\n",
       "2     1224.0\n",
       "3     3404.0\n",
       "4      230.0\n",
       "5     2860.0\n",
       "6     1224.0\n",
       "7      368.0\n",
       "8      312.0\n",
       "9      550.0\n",
       "10     130.0\n",
       "11     106.0\n",
       "12     288.0\n",
       "13    4824.0\n",
       "14     576.0\n",
       "15     110.0\n",
       "16     154.0\n",
       "17     600.0\n",
       "18     240.0\n",
       "19       NaN\n",
       "20     336.0\n",
       "21     312.0\n",
       "22     125.0\n",
       "23     122.0\n",
       "24      83.0\n",
       "25     288.0\n",
       "26     624.0\n",
       "27     288.0\n",
       "28     624.0\n",
       "29     288.0\n",
       "30     105.0\n",
       "31     230.0\n",
       "32     600.0\n",
       "33     325.0\n",
       "34     484.0\n",
       "35    1725.0\n",
       "36    1776.0\n",
       "37     240.0\n",
       "38     120.0\n",
       "39     576.0\n",
       "40     600.0\n",
       "41     135.0\n",
       "42    1075.0\n",
       "43     117.0\n",
       "44     650.0\n",
       "45      90.0\n",
       "46     312.0\n",
       "47     140.0\n",
       "48     648.0\n",
       "49    1128.0\n",
       "Name: Total Minutes, dtype: float64"
      ]
     },
     "execution_count": 76,
     "metadata": {},
     "output_type": "execute_result"
    }
   ],
   "source": [
    "data[\"Total Minutes\"] = data[\"Total Minutes\"]*data[\"Number of Episodes\"]\n",
    "data[\"Total Minutes\"]"
   ]
  },
  {
   "cell_type": "code",
   "execution_count": 28,
   "metadata": {},
   "outputs": [
    {
     "name": "stdout",
     "output_type": "stream",
     "text": [
      "['Action', 'Thriller', 'Action', 'Action', 'Action', 'Military', 'Action', 'Action', 'Action', 'Drama', 'Drama', 'Romance', 'Action', 'Action', 'Slice of Life', 'Action', 'Mystery', 'Action', 'Comedy', 'Comedy', 'Action', 'Action', 'Adventure', 'Action', 'Action', 'Action', 'Action', 'Drama', 'Mystery', 'Comedy', 'Sci-Fi', 'Adventure', 'Comedy', 'Sci-Fi', 'Drama', 'Comedy', 'Drama', 'Adventure', 'Action', 'Action', 'Action', 'Action', 'Slice of Life', 'Action', 'Adventure', 'Supernatural', 'Slice of Life', 'Slice of Life', 'Action', 'Action', 'Military', 'Sci-Fi', 'Comedy', 'Adventure', 'Military', 'Sci-Fi', 'Sci-Fi', 'Military', 'Comedy', 'Game', 'School', 'Supernatural', 'Comedy', 'Comedy', 'Comedy', 'Sci-Fi', 'Comedy', 'Military', 'Sports', 'Sci-Fi', 'Slice of Life', 'Supernatural', 'Supernatural', 'Mystery', 'Comedy', 'Adventure', 'Historical', 'Comedy', 'Psychological', 'Adventure', 'Fantasy', 'Sports', 'Adventure', 'Music', 'Sports', 'Horror', 'Slice of Life', 'Historical', 'Adventure', 'Military', 'Adventure', 'Comedy', 'Historical', 'Slice of Life', 'Drama', 'Demons', 'Drama', 'Adventure', 'Drama', 'Adventure', 'Historical', 'Fantasy', 'Mystery', 'Space', 'Comedy', 'Mystery', 'Historical', 'Seinen', 'Shounen', 'School', 'Historical', 'Historical', 'Supernatural', 'Comedy', 'Supernatural', 'Sci-Fi', 'Drama', 'Comedy', 'Comedy', 'Drama', 'Magic', 'Supernatural', 'Historical', 'Comedy', 'Josei', 'Supernatural', 'Romance', 'Mystery', 'Historical', 'Drama', 'Mystery', 'Romance', 'Drama', 'Mystery', 'Mystery', 'Drama', 'Drama', 'Sci-Fi', 'Fantasy', 'Drama', 'Demons', 'Mystery', 'Romance', 'Supernatural', 'Fantasy', 'Comedy', 'Shounen', 'Comedy', 'Parody', 'Shounen', 'Super Power', 'Drama', 'Historical', 'Super Power', 'Parody', 'Slice of Life', 'Drama', 'Parody', 'Parody', 'Drama', 'Historical', 'Vampire', 'Super Power', 'School', 'Historical', 'Supernatural', 'Fantasy', 'Vampire', 'Parody', 'Drama', 'Romance', 'School', 'Drama', 'Mystery', 'School', 'Drama', 'School', 'Shounen', 'Police', 'Historical', 'Romance', 'Historical', 'Super Power', 'School', 'Supernatural', 'Historical', 'School', 'Drama', 'Mecha', 'Slice of Life', 'Drama', 'Samurai', 'Super Power', 'Drama', 'Parody', 'Drama', 'Samurai', 'Samurai', 'Samurai', 'Romance', 'Parody', 'Drama', 'Shounen', 'Parody', 'Samurai', 'Sci-Fi', 'Vampire', 'Seinen', 'Fantasy', 'Seinen', 'Shounen', 'Fantasy', 'Shounen', 'Psychological', 'Supernatural', 'Martial Arts', 'Seinen', 'Drama', 'Shounen', 'Shounen', 'Supernatural', 'Shoujo', 'Sci-Fi', 'Sports', 'Magic', 'Sci-Fi', 'Fantasy', 'Samurai', 'Fantasy', 'Sci-Fi', 'Sci-Fi', 'Sci-Fi', 'Samurai', 'Mecha', 'Samurai', 'Sci-Fi', 'Space', 'Slice of Life', 'Seinen', 'Fantasy', 'Samurai', 'Mecha', 'Fantasy', 'Fantasy', 'Shounen', 'Shounen', 'Shounen', 'Shounen', 'Shounen', 'Shounen', 'Shounen', 'Shounen', 'Shounen', 'Shounen', 'Supernatural', 'Thriller', 'Seinen', 'Shounen', 'School', 'Seinen', 'Shounen']\n"
     ]
    }
   ],
   "source": [
    "genres = []\n",
    "for val in data[\"Genre 1\"]:\n",
    "    if pd.isna(val)==False:\n",
    "        genres.append(val)\n",
    "for val in data[\"Genre 2\"]:\n",
    "    if pd.isna(val)==False:\n",
    "        genres.append(val)\n",
    "for val in data[\"Genre 3\"]:\n",
    "    if pd.isna(val)==False:\n",
    "        genres.append(val)\n",
    "for val in data[\"Genre 4\"]:\n",
    "    if pd.isna(val)==False:\n",
    "        genres.append(val)\n",
    "for val in data[\"Genre 5\"]:\n",
    "    if pd.isna(val)==False:\n",
    "        genres.append(val)\n",
    "for val in data[\"Genre 6\"]:\n",
    "    if pd.isna(val)==False:\n",
    "        genres.append(val)\n",
    "for val in data[\"Genre 7\"]:\n",
    "    if pd.isna(val)==False:\n",
    "        genres.append(val)\n",
    "for val in data[\"Genre 8\"]:\n",
    "    if pd.isna(val)==False:\n",
    "        genres.append(val)\n",
    "print(genres)"
   ]
  },
  {
   "cell_type": "code",
   "execution_count": 45,
   "metadata": {},
   "outputs": [],
   "source": [
    "values, counts = np.unique(genres, return_counts=True)"
   ]
  },
  {
   "cell_type": "code",
   "execution_count": 46,
   "metadata": {},
   "outputs": [
    {
     "data": {
      "text/plain": [
       "(array(['Action', 'Adventure', 'Comedy', 'Demons', 'Drama', 'Fantasy',\n",
       "        'Game', 'Historical', 'Horror', 'Josei', 'Magic', 'Martial Arts',\n",
       "        'Mecha', 'Military', 'Music', 'Mystery', 'Parody', 'Police',\n",
       "        'Psychological', 'Romance', 'Samurai', 'School', 'Sci-Fi',\n",
       "        'Seinen', 'Shoujo', 'Shounen', 'Slice of Life', 'Space', 'Sports',\n",
       "        'Super Power', 'Supernatural', 'Thriller', 'Vampire'], dtype='<U13'),\n",
       " array([24, 12, 21,  2, 27, 12,  1, 15,  1,  1,  2,  1,  3,  6,  1, 11,  8,\n",
       "         1,  2,  7,  9,  9, 16,  7,  1, 21, 10,  2,  4,  5, 14,  2,  3]))"
      ]
     },
     "execution_count": 46,
     "metadata": {},
     "output_type": "execute_result"
    }
   ],
   "source": [
    "values,counts"
   ]
  },
  {
   "cell_type": "code",
   "execution_count": 50,
   "metadata": {},
   "outputs": [
    {
     "data": {
      "text/html": [
       "<div>\n",
       "<style scoped>\n",
       "    .dataframe tbody tr th:only-of-type {\n",
       "        vertical-align: middle;\n",
       "    }\n",
       "\n",
       "    .dataframe tbody tr th {\n",
       "        vertical-align: top;\n",
       "    }\n",
       "\n",
       "    .dataframe thead th {\n",
       "        text-align: right;\n",
       "    }\n",
       "</style>\n",
       "<table border=\"1\" class=\"dataframe\">\n",
       "  <thead>\n",
       "    <tr style=\"text-align: right;\">\n",
       "      <th></th>\n",
       "      <th>Genre</th>\n",
       "      <th>Counts</th>\n",
       "    </tr>\n",
       "  </thead>\n",
       "  <tbody>\n",
       "    <tr>\n",
       "      <th>4</th>\n",
       "      <td>Drama</td>\n",
       "      <td>27</td>\n",
       "    </tr>\n",
       "    <tr>\n",
       "      <th>0</th>\n",
       "      <td>Action</td>\n",
       "      <td>24</td>\n",
       "    </tr>\n",
       "    <tr>\n",
       "      <th>2</th>\n",
       "      <td>Comedy</td>\n",
       "      <td>21</td>\n",
       "    </tr>\n",
       "    <tr>\n",
       "      <th>25</th>\n",
       "      <td>Shounen</td>\n",
       "      <td>21</td>\n",
       "    </tr>\n",
       "    <tr>\n",
       "      <th>22</th>\n",
       "      <td>Sci-Fi</td>\n",
       "      <td>16</td>\n",
       "    </tr>\n",
       "    <tr>\n",
       "      <th>7</th>\n",
       "      <td>Historical</td>\n",
       "      <td>15</td>\n",
       "    </tr>\n",
       "    <tr>\n",
       "      <th>30</th>\n",
       "      <td>Supernatural</td>\n",
       "      <td>14</td>\n",
       "    </tr>\n",
       "    <tr>\n",
       "      <th>5</th>\n",
       "      <td>Fantasy</td>\n",
       "      <td>12</td>\n",
       "    </tr>\n",
       "    <tr>\n",
       "      <th>1</th>\n",
       "      <td>Adventure</td>\n",
       "      <td>12</td>\n",
       "    </tr>\n",
       "    <tr>\n",
       "      <th>15</th>\n",
       "      <td>Mystery</td>\n",
       "      <td>11</td>\n",
       "    </tr>\n",
       "    <tr>\n",
       "      <th>26</th>\n",
       "      <td>Slice of Life</td>\n",
       "      <td>10</td>\n",
       "    </tr>\n",
       "    <tr>\n",
       "      <th>21</th>\n",
       "      <td>School</td>\n",
       "      <td>9</td>\n",
       "    </tr>\n",
       "    <tr>\n",
       "      <th>20</th>\n",
       "      <td>Samurai</td>\n",
       "      <td>9</td>\n",
       "    </tr>\n",
       "    <tr>\n",
       "      <th>16</th>\n",
       "      <td>Parody</td>\n",
       "      <td>8</td>\n",
       "    </tr>\n",
       "    <tr>\n",
       "      <th>23</th>\n",
       "      <td>Seinen</td>\n",
       "      <td>7</td>\n",
       "    </tr>\n",
       "    <tr>\n",
       "      <th>19</th>\n",
       "      <td>Romance</td>\n",
       "      <td>7</td>\n",
       "    </tr>\n",
       "    <tr>\n",
       "      <th>13</th>\n",
       "      <td>Military</td>\n",
       "      <td>6</td>\n",
       "    </tr>\n",
       "    <tr>\n",
       "      <th>29</th>\n",
       "      <td>Super Power</td>\n",
       "      <td>5</td>\n",
       "    </tr>\n",
       "    <tr>\n",
       "      <th>28</th>\n",
       "      <td>Sports</td>\n",
       "      <td>4</td>\n",
       "    </tr>\n",
       "    <tr>\n",
       "      <th>32</th>\n",
       "      <td>Vampire</td>\n",
       "      <td>3</td>\n",
       "    </tr>\n",
       "    <tr>\n",
       "      <th>12</th>\n",
       "      <td>Mecha</td>\n",
       "      <td>3</td>\n",
       "    </tr>\n",
       "    <tr>\n",
       "      <th>10</th>\n",
       "      <td>Magic</td>\n",
       "      <td>2</td>\n",
       "    </tr>\n",
       "    <tr>\n",
       "      <th>18</th>\n",
       "      <td>Psychological</td>\n",
       "      <td>2</td>\n",
       "    </tr>\n",
       "    <tr>\n",
       "      <th>27</th>\n",
       "      <td>Space</td>\n",
       "      <td>2</td>\n",
       "    </tr>\n",
       "    <tr>\n",
       "      <th>3</th>\n",
       "      <td>Demons</td>\n",
       "      <td>2</td>\n",
       "    </tr>\n",
       "    <tr>\n",
       "      <th>31</th>\n",
       "      <td>Thriller</td>\n",
       "      <td>2</td>\n",
       "    </tr>\n",
       "    <tr>\n",
       "      <th>11</th>\n",
       "      <td>Martial Arts</td>\n",
       "      <td>1</td>\n",
       "    </tr>\n",
       "    <tr>\n",
       "      <th>9</th>\n",
       "      <td>Josei</td>\n",
       "      <td>1</td>\n",
       "    </tr>\n",
       "    <tr>\n",
       "      <th>24</th>\n",
       "      <td>Shoujo</td>\n",
       "      <td>1</td>\n",
       "    </tr>\n",
       "    <tr>\n",
       "      <th>8</th>\n",
       "      <td>Horror</td>\n",
       "      <td>1</td>\n",
       "    </tr>\n",
       "    <tr>\n",
       "      <th>6</th>\n",
       "      <td>Game</td>\n",
       "      <td>1</td>\n",
       "    </tr>\n",
       "    <tr>\n",
       "      <th>17</th>\n",
       "      <td>Police</td>\n",
       "      <td>1</td>\n",
       "    </tr>\n",
       "    <tr>\n",
       "      <th>14</th>\n",
       "      <td>Music</td>\n",
       "      <td>1</td>\n",
       "    </tr>\n",
       "  </tbody>\n",
       "</table>\n",
       "</div>"
      ],
      "text/plain": [
       "            Genre  Counts\n",
       "4           Drama      27\n",
       "0          Action      24\n",
       "2          Comedy      21\n",
       "25        Shounen      21\n",
       "22         Sci-Fi      16\n",
       "7      Historical      15\n",
       "30   Supernatural      14\n",
       "5         Fantasy      12\n",
       "1       Adventure      12\n",
       "15        Mystery      11\n",
       "26  Slice of Life      10\n",
       "21         School       9\n",
       "20        Samurai       9\n",
       "16         Parody       8\n",
       "23         Seinen       7\n",
       "19        Romance       7\n",
       "13       Military       6\n",
       "29    Super Power       5\n",
       "28         Sports       4\n",
       "32        Vampire       3\n",
       "12          Mecha       3\n",
       "10          Magic       2\n",
       "18  Psychological       2\n",
       "27          Space       2\n",
       "3          Demons       2\n",
       "31       Thriller       2\n",
       "11   Martial Arts       1\n",
       "9           Josei       1\n",
       "24         Shoujo       1\n",
       "8          Horror       1\n",
       "6            Game       1\n",
       "17         Police       1\n",
       "14          Music       1"
      ]
     },
     "execution_count": 50,
     "metadata": {},
     "output_type": "execute_result"
    }
   ],
   "source": [
    "testdf = pd.DataFrame()\n",
    "testdf[\"Genre\"] = values\n",
    "testdf[\"Counts\"] = counts\n",
    "testdf = testdf.sort_values(by=\"Counts\", ascending=False)\n",
    "testdf"
   ]
  },
  {
   "cell_type": "code",
   "execution_count": 53,
   "metadata": {},
   "outputs": [
    {
     "data": {
      "text/plain": [
       "<seaborn.axisgrid.FacetGrid at 0x7fa029e41450>"
      ]
     },
     "execution_count": 53,
     "metadata": {},
     "output_type": "execute_result"
    },
    {
     "data": {
      "image/png": "[encoded data removed]",
      "text/plain": [
       "<Figure size 720x360 with 1 Axes>"
      ]
     },
     "metadata": {},
     "output_type": "display_data"
    }
   ],
   "source": [
    "g = sns.catplot(x = \"Genre\", y = \"Counts\", data = testdf, kind='bar', aspect = 2)\n",
    "g.set_xticklabels(rotation=90)"
   ]
  }
 ],
 "metadata": {
  "kernelspec": {
   "display_name": "Python 3",
   "language": "python",
   "name": "python3"
  },
  "language_info": {
   "codemirror_mode": {
    "name": "ipython",
    "version": 3
   },
   "file_extension": ".py",
   "mimetype": "text/x-python",
   "name": "python",
   "nbconvert_exporter": "python",
   "pygments_lexer": "ipython3",
   "version": "3.7.6"
  }
 },
 "nbformat": 4,
 "nbformat_minor": 4
}
