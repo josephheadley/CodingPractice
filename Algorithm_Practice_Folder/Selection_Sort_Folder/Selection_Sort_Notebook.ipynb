{
 "cells": [
  {
   "cell_type": "markdown",
   "metadata": {},
   "source": [
    "## Selection Sort"
   ]
  },
  {
   "cell_type": "code",
   "execution_count": 1,
   "metadata": {},
   "outputs": [],
   "source": [
    "import numpy as np\n",
    "from datetime import datetime"
   ]
  },
  {
   "cell_type": "code",
   "execution_count": 7,
   "metadata": {},
   "outputs": [
    {
     "data": {
      "text/plain": [
       "array([93, 72, 66, 86, 75, 92, 74, 90, 39, 44])"
      ]
     },
     "execution_count": 7,
     "metadata": {},
     "output_type": "execute_result"
    }
   ],
   "source": [
    "check = np.random.randint(100, size = 10)\n",
    "check"
   ]
  },
  {
   "cell_type": "code",
   "execution_count": 9,
   "metadata": {},
   "outputs": [
    {
     "data": {
      "text/plain": [
       "array([22, 50, 93, 26, 84, 99, 55, 46, 99, 58])"
      ]
     },
     "execution_count": 9,
     "metadata": {},
     "output_type": "execute_result"
    }
   ],
   "source": [
    "check2 = np.random.randint(100, size=10)\n",
    "check2"
   ]
  },
  {
   "cell_type": "code",
   "execution_count": 3,
   "metadata": {},
   "outputs": [],
   "source": [
    "def SelectionSort(list):\n",
    "    num = len(list)\n",
    "    for i in range(num):\n",
    "        min_idx = i\n",
    "        for j in range(i+1,num):\n",
    "            if list[min_idx] > list[j]:\n",
    "                min_idx = j\n",
    "        list[min_idx],list[i] = list[i],list[min_idx]"
   ]
  },
  {
   "cell_type": "code",
   "execution_count": 8,
   "metadata": {},
   "outputs": [
    {
     "name": "stdout",
     "output_type": "stream",
     "text": [
      "[39 44 66 72 74 75 86 90 92 93] \n",
      " 0:00:00.000175\n"
     ]
    }
   ],
   "source": [
    "start_time = datetime.now()\n",
    "SelectionSort(check)\n",
    "time_elasped = datetime.now() - start_time\n",
    "print(check,\"\\n\",time_elasped)"
   ]
  },
  {
   "cell_type": "code",
   "execution_count": 10,
   "metadata": {},
   "outputs": [
    {
     "name": "stdout",
     "output_type": "stream",
     "text": [
      "[22 26 46 50 55 58 84 93 99 99] \n",
      " 0:00:00.000240\n"
     ]
    }
   ],
   "source": [
    "start_time = datetime.now()\n",
    "SelectionSort(check2)\n",
    "time_elasped = datetime.now() - start_time\n",
    "print(check2,\"\\n\",time_elasped)"
   ]
  },
  {
   "cell_type": "code",
   "execution_count": null,
   "metadata": {},
   "outputs": [],
   "source": []
  }
 ],
 "metadata": {
  "kernelspec": {
   "display_name": "Python 3",
   "language": "python",
   "name": "python3"
  },
  "language_info": {
   "codemirror_mode": {
    "name": "ipython",
    "version": 3
   },
   "file_extension": ".py",
   "mimetype": "text/x-python",
   "name": "python",
   "nbconvert_exporter": "python",
   "pygments_lexer": "ipython3",
   "version": "3.7.6"
  }
 },
 "nbformat": 4,
 "nbformat_minor": 4
}
