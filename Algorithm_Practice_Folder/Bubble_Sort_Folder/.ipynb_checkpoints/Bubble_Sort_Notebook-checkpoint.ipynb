{
 "cells": [
  {
   "cell_type": "markdown",
   "metadata": {},
   "source": [
    "## Bubble Sort"
   ]
  },
  {
   "cell_type": "markdown",
   "metadata": {},
   "source": [
    "Bubble Sort is a simple sorting algorithm that compares the elements of a list to each other one by one. If the prior element is greater the next element the algorithm swaps the places of those elements and continues to do so until the list is fully sorted."
   ]
  },
  {
   "cell_type": "code",
   "execution_count": 1,
   "metadata": {},
   "outputs": [],
   "source": [
    "import numpy as np\n",
    "from datetime import datetime"
   ]
  },
  {
   "cell_type": "code",
   "execution_count": 2,
   "metadata": {},
   "outputs": [
    {
     "data": {
      "text/plain": [
       "array([47,  5, 73, 86, 74, 45, 81, 10, 48, 36])"
      ]
     },
     "execution_count": 2,
     "metadata": {},
     "output_type": "execute_result"
    }
   ],
   "source": [
    "check = np.random.randint(100, size=10)\n",
    "check"
   ]
  },
  {
   "cell_type": "code",
   "execution_count": 3,
   "metadata": {},
   "outputs": [],
   "source": [
    "def BubbleSort(list):\n",
    "    num = len(list)\n",
    "    for i in range(num):\n",
    "        for j in range(0,num-i-1):\n",
    "            if list[j] > list[j+1]:\n",
    "                list[j],list[j+1] = list[j+1],list[j]"
   ]
  },
  {
   "cell_type": "code",
   "execution_count": 4,
   "metadata": {
    "tags": []
   },
   "outputs": [
    {
     "name": "stdout",
     "output_type": "stream",
     "text": [
      "[ 5 10 36 45 47 48 73 74 81 86] \n",
      " 0:00:00.000285\n"
     ]
    }
   ],
   "source": [
    "start_time = datetime.now()\n",
    "BubbleSort(check)\n",
    "time_elapsed = datetime.now() - start_time\n",
    "print(check, \"\\n\", time_elapsed)"
   ]
  },
  {
   "cell_type": "markdown",
   "metadata": {},
   "source": [
    "## Optimized Bubble Sort"
   ]
  },
  {
   "cell_type": "markdown",
   "metadata": {},
   "source": [
    "Bubble Sort can be optimized by using a boolean check on the inner loop to determine if any of the elements in the list that was passed were swapped with each other. This means that the Bubble Sort Algorithm will stop iterating over the list if the boolean check shows that no elements in the list were swapped regardless of where the outer loop is in its iteration of this list."
   ]
  },
  {
   "cell_type": "code",
   "execution_count": 7,
   "metadata": {},
   "outputs": [],
   "source": [
    "def OptBubbleSort(list):\n",
    "    num = len(list)\n",
    "    for i in range(num):\n",
    "        swap = False\n",
    "        for j in range(0, num-i-1):\n",
    "            if list[j] > list[j+1]:\n",
    "                list[j],list[j+1] = list[j+1],list[j]\n",
    "                swap = True\n",
    "        if swap == False:\n",
    "            break"
   ]
  },
  {
   "cell_type": "code",
   "execution_count": 8,
   "metadata": {},
   "outputs": [
    {
     "data": {
      "text/plain": [
       "array([26, 75, 26, 55, 21, 38, 75, 20, 66,  3])"
      ]
     },
     "execution_count": 8,
     "metadata": {},
     "output_type": "execute_result"
    }
   ],
   "source": [
    "check2 = np.random.randint(100, size = 10)\n",
    "check2"
   ]
  },
  {
   "cell_type": "code",
   "execution_count": 9,
   "metadata": {
    "tags": []
   },
   "outputs": [
    {
     "name": "stdout",
     "output_type": "stream",
     "text": [
      "[ 3 20 21 26 26 38 55 66 75 75] \n",
      " 0:00:00.000169\n"
     ]
    }
   ],
   "source": [
    "start_time2 = datetime.now()\n",
    "OptBubbleSort(check2)\n",
    "time_elapsed2 = datetime.now() - start_time2\n",
    "print(check2, \"\\n\", time_elapsed2)"
   ]
  },
  {
   "cell_type": "markdown",
   "metadata": {},
   "source": [
    "Notably the optimized bubble sort algorithm will generally be faster than the non-optimized bubble sort, if only by a few milliseconds, because it allows the algorithm to stop before iterating through the whole list if the list is already sorted."
   ]
  }
 ],
 "metadata": {
  "kernelspec": {
   "display_name": "Python 3",
   "language": "python",
   "name": "python3"
  },
  "language_info": {
   "codemirror_mode": {
    "name": "ipython",
    "version": 3
   },
   "file_extension": ".py",
   "mimetype": "text/x-python",
   "name": "python",
   "nbconvert_exporter": "python",
   "pygments_lexer": "ipython3",
   "version": "3.7.6"
  }
 },
 "nbformat": 4,
 "nbformat_minor": 2
}
