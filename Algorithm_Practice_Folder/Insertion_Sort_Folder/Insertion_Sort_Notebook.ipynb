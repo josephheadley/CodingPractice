{
 "metadata": {
  "language_info": {
   "codemirror_mode": {
    "name": "ipython",
    "version": 3
   },
   "file_extension": ".py",
   "mimetype": "text/x-python",
   "name": "python",
   "nbconvert_exporter": "python",
   "pygments_lexer": "ipython3",
   "version": "3.7.6-final"
  },
  "orig_nbformat": 2,
  "kernelspec": {
   "name": "python_defaultSpec_1598563122408",
   "display_name": "Python 3.7.6 64-bit ('base': conda)"
  }
 },
 "nbformat": 4,
 "nbformat_minor": 2,
 "cells": [
  {
   "cell_type": "markdown",
   "metadata": {},
   "source": [
    "## Insertion Sort"
   ]
  },
  {
   "cell_type": "code",
   "execution_count": 1,
   "metadata": {},
   "outputs": [],
   "source": [
    "import numpy as np \n",
    "from datetime import datetime"
   ]
  },
  {
   "cell_type": "code",
   "execution_count": 18,
   "metadata": {},
   "outputs": [
    {
     "output_type": "execute_result",
     "data": {
      "text/plain": "array([44, 64, 15, 74, 65,  6, 28, 68, 67, 94])"
     },
     "metadata": {},
     "execution_count": 18
    }
   ],
   "source": [
    "check = np.random.randint(100, size=10)\n",
    "check"
   ]
  },
  {
   "cell_type": "code",
   "execution_count": 22,
   "metadata": {},
   "outputs": [
    {
     "output_type": "execute_result",
     "data": {
      "text/plain": "array([ 3, 14, 66, 15, 73, 73, 13, 64, 17, 48])"
     },
     "metadata": {},
     "execution_count": 22
    }
   ],
   "source": [
    "check2 = np.random.randint(100, size=10)\n",
    "check2"
   ]
  },
  {
   "cell_type": "code",
   "execution_count": 13,
   "metadata": {},
   "outputs": [],
   "source": [
    "def InsertionSort(list):\n",
    "    for i in range(1, len(list)): \n",
    "        key = list[i] \n",
    "        j = i-1\n",
    "        while j >= 0 and key < list[j] : \n",
    "                list[j + 1] = list[j] \n",
    "                j -= 1\n",
    "        list[j + 1] = key "
   ]
  },
  {
   "cell_type": "code",
   "execution_count": 19,
   "metadata": {
    "tags": []
   },
   "outputs": [
    {
     "output_type": "stream",
     "name": "stdout",
     "text": "[ 6 15 28 44 64 65 67 68 74 94] \n 0:00:00.000209\n"
    }
   ],
   "source": [
    "start_time = datetime.now()\n",
    "InsertionSort(check)\n",
    "time_elapsed = datetime.now() - start_time\n",
    "print(check, \"\\n\", time_elapsed)"
   ]
  },
  {
   "cell_type": "code",
   "execution_count": 23,
   "metadata": {
    "tags": []
   },
   "outputs": [
    {
     "output_type": "stream",
     "name": "stdout",
     "text": "[ 3 13 14 15 17 48 64 66 73 73] \n 0:00:00.000149\n"
    }
   ],
   "source": [
    "start_time2 = datetime.now()\n",
    "InsertionSort(check2)\n",
    "time_elapsed2 = datetime.now() - start_time2\n",
    "print(check2, \"\\n\", time_elapsed2)"
   ]
  }
 ]
}